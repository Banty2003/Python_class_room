{
 "cells": [
  {
   "cell_type": "markdown",
   "id": "bcf86c42-27e0-47d7-a2c9-2c99c0b8b622",
   "metadata": {},
   "source": [
    " # 1: Write a Python program to print all the numbers from 1 to 10 using a for loop."
   ]
  },
  {
   "cell_type": "code",
   "execution_count": 4,
   "id": "b0fa0b2d-f9d7-44c7-81dd-fa8a38b6c67a",
   "metadata": {},
   "outputs": [
    {
     "name": "stdout",
     "output_type": "stream",
     "text": [
      "1\n",
      "2\n",
      "3\n",
      "4\n",
      "5\n",
      "6\n",
      "7\n",
      "8\n",
      "9\n"
     ]
    }
   ],
   "source": [
    "for i in range(1,10):\n",
    "    print(i)\n",
    "\n"
   ]
  },
  {
   "cell_type": "markdown",
   "id": "c433f067-66d8-42ed-b69a-c7575881f231",
   "metadata": {},
   "source": [
    "# 2: Write a Python program to find the sum of all numbers from 1 to 100 using a for loop."
   ]
  },
  {
   "cell_type": "code",
   "execution_count": 8,
   "id": "fdae6c98-0e50-48dc-9dc1-429654b181c6",
   "metadata": {},
   "outputs": [
    {
     "name": "stdout",
     "output_type": "stream",
     "text": [
      "5050\n"
     ]
    }
   ],
   "source": [
    "sum=0\n",
    "for i in range(1,101):\n",
    "    sum=sum+i\n",
    "print(sum)\n",
    "    \n"
   ]
  },
  {
   "cell_type": "markdown",
   "id": "a7b1632a-b74e-4d29-a171-cf89978c3f53",
   "metadata": {},
   "source": [
    "# 3: Write a Python program to print the multiplication table of a given number using a for loop."
   ]
  },
  {
   "cell_type": "code",
   "execution_count": 57,
   "id": "e06f4896-04a3-4e7e-b106-184516d05bd4",
   "metadata": {},
   "outputs": [
    {
     "name": "stdin",
     "output_type": "stream",
     "text": [
      "Enter your number: 5\n"
     ]
    },
    {
     "name": "stdout",
     "output_type": "stream",
     "text": [
      "5 x 1 = 5\n",
      "5 x 2 = 10\n",
      "5 x 3 = 15\n",
      "5 x 4 = 20\n",
      "5 x 5 = 25\n",
      "5 x 6 = 30\n",
      "5 x 7 = 35\n",
      "5 x 8 = 40\n",
      "5 x 9 = 45\n",
      "5 x 10 = 50\n"
     ]
    }
   ],
   "source": [
    "num=int(input(\"Enter your number:\"))\n",
    "for i in range(1,11):\n",
    "      print(f\"{num} x {i} = {num * i}\")\n",
    "    \n",
    "    "
   ]
  },
  {
   "cell_type": "markdown",
   "id": "6bcb9c67-c09e-4af9-954c-3c478ecd0f5f",
   "metadata": {},
   "source": [
    " # 4: Write a Python program to count the number of even and odd numbers from a series of numbers using a for loop. \n",
    " # Hint: Find even and odd from this list: [1, 2, 3, 4, 5, 6, 7, 8, 9, 10]"
   ]
  },
  {
   "cell_type": "code",
   "execution_count": 9,
   "id": "a54c6c51-d75d-4439-a734-7c812d02a946",
   "metadata": {},
   "outputs": [
    {
     "name": "stdin",
     "output_type": "stream",
     "text": [
      "[1, 2, 3, 4, 5, 6, 7, 8, 9, 10] 5\n"
     ]
    },
    {
     "name": "stdout",
     "output_type": "stream",
     "text": [
      " odd numbers: 1\n",
      "even numbers: 0\n"
     ]
    }
   ],
   "source": [
    "num=int(input([1,2,3,4,5,6,7,8,9,10]))\n",
    "even=0\n",
    "odd=0\n",
    "for i in range(1,11):\n",
    "        if (i%2 == 0):\n",
    "             even+=1\n",
    "else:\n",
    "    odd +=1\n",
    "print(\" odd numbers:\",odd)\n",
    "print(\"even numbers:\",even)\n",
    "    "
   ]
  },
  {
   "cell_type": "markdown",
   "id": "909eee3e-d01f-4274-97b8-e2938396315f",
   "metadata": {},
   "source": [
    "# 5: Write a Python program to find the factorial of a number using a for loop."
   ]
  },
  {
   "cell_type": "code",
   "execution_count": 11,
   "id": "eceaa391-456c-4fbc-a5de-4b00f54d8e0e",
   "metadata": {},
   "outputs": [
    {
     "name": "stdin",
     "output_type": "stream",
     "text": [
      "Enter the number:  5\n"
     ]
    },
    {
     "name": "stdout",
     "output_type": "stream",
     "text": [
      "1\n",
      "2\n",
      "6\n",
      "24\n",
      "120\n"
     ]
    }
   ],
   "source": [
    "num=int(input(\"Enter the number: \"))\n",
    "fact=1\n",
    "for i in range(1,num+1):\n",
    "    fact=fact*i\n",
    "    print(fact)"
   ]
  },
  {
   "cell_type": "markdown",
   "id": "38445f86-9530-428e-931a-e4068f5fda45",
   "metadata": {},
   "source": [
    "# 6: Write a Python program to print the Fibonacci sequence up to a specified number using a for loop."
   ]
  },
  {
   "cell_type": "code",
   "execution_count": 16,
   "id": "2baeab44-1c5a-4fee-b1c3-f069cff3813d",
   "metadata": {},
   "outputs": [
    {
     "name": "stdin",
     "output_type": "stream",
     "text": [
      "Enter the no:  5\n"
     ]
    },
    {
     "name": "stdout",
     "output_type": "stream",
     "text": [
      "0\n",
      "1\n",
      "1\n",
      "2\n",
      "3\n"
     ]
    }
   ],
   "source": [
    "num=int(input(\"Enter the no: \"))\n",
    "a=0\n",
    "b=1\n",
    "for i in range(num):\n",
    "    print(a)\n",
    "    c=a+b\n",
    "    a=b\n",
    "    b=c\n",
    "    "
   ]
  },
  {
   "cell_type": "markdown",
   "id": "3aa13cce-4eb6-49ed-9b56-9f13e6fea119",
   "metadata": {},
   "source": [
    "# 7: Write a Python program to check if a given number is prime or not using a for loop."
   ]
  },
  {
   "cell_type": "code",
   "execution_count": 24,
   "id": "920d003d-ae22-45ee-81ad-16c6d63a8740",
   "metadata": {},
   "outputs": [
    {
     "name": "stdin",
     "output_type": "stream",
     "text": [
      "Enter a number:  7\n"
     ]
    },
    {
     "name": "stdout",
     "output_type": "stream",
     "text": [
      "Prime\n"
     ]
    }
   ],
   "source": [
    "num=int(input(\"Enter a number: \"))\n",
    "prime=True\n",
    "for i in range(2,num):\n",
    "    if num % i==0:\n",
    "        prime=False\n",
    "        break\n",
    "    \n",
    "if prime and num > 1:\n",
    "    print(\"Prime\")\n",
    "else:\n",
    "    print(\"Not Prime\")"
   ]
  },
  {
   "cell_type": "markdown",
   "id": "92cd6bcf-21cd-420b-9a65-3b30bec0a566",
   "metadata": {},
   "source": [
    "# 8: Write a Python program to find the largest element in a list using a for loop."
   ]
  },
  {
   "cell_type": "code",
   "execution_count": 33,
   "id": "d8aac62e-d72a-4b74-a9d8-a9b3d1a6eb2d",
   "metadata": {},
   "outputs": [
    {
     "name": "stdout",
     "output_type": "stream",
     "text": [
      "99\n"
     ]
    }
   ],
   "source": [
    "num=[1,22,44,56,76,99,98,]\n",
    "largest=num[0]\n",
    "for i in num:\n",
    "    if i > largest:\n",
    "        largest=i\n",
    "print(largest)"
   ]
  },
  {
   "cell_type": "markdown",
   "id": "dcaa8645-9d8b-4482-be7f-191235708c0e",
   "metadata": {},
   "source": [
    " # 9: Write a Python program to reverse a given string using a for loop."
   ]
  },
  {
   "cell_type": "code",
   "execution_count": 42,
   "id": "cec423fb-2fc1-4165-b44b-6cf322697281",
   "metadata": {},
   "outputs": [
    {
     "name": "stdout",
     "output_type": "stream",
     "text": [
      "reverse is:  nohtyp \n"
     ]
    }
   ],
   "source": [
    "name = \"python\"\n",
    "reverse_name =\" \"\n",
    "for i in name:\n",
    "    reverse_name = i + reverse_name\n",
    "print(\"reverse is: \",reverse_name)"
   ]
  },
  {
   "cell_type": "code",
   "execution_count": 43,
   "id": "071b675d-47b7-4c49-ad0a-fd36b78b06d6",
   "metadata": {},
   "outputs": [
    {
     "name": "stdin",
     "output_type": "stream",
     "text": [
      "enter a string banty\n"
     ]
    },
    {
     "name": "stdout",
     "output_type": "stream",
     "text": [
      "reverse is:   ytnab\n"
     ]
    }
   ],
   "source": [
    "name = input(\"enter a string\")\n",
    "reverse_name = \" \"\n",
    "for i in range(len(name)-1,-1,-1):\n",
    "    reverse_name += name[i]\n",
    "print(\"reverse is: \",reverse_name)"
   ]
  },
  {
   "cell_type": "markdown",
   "id": "10d03601-c18e-47f0-aa51-154839ade1b5",
   "metadata": {},
   "source": [
    "# 10: Write a Python program to find the common elements between two lists using a for loop. List1 = [1,2,3] List2 = [4,5,1] # common element is 1\n"
   ]
  },
  {
   "cell_type": "code",
   "execution_count": 49,
   "id": "3144eaad-6c81-4601-84c2-f90387c670e0",
   "metadata": {},
   "outputs": [
    {
     "name": "stdout",
     "output_type": "stream",
     "text": [
      "common element: [1]\n"
     ]
    }
   ],
   "source": [
    "list1=[1,2,3]\n",
    "list2=[4,5,1]\n",
    "common=[]\n",
    "for i in list1:\n",
    "    if i in list2:\n",
    "        common.append(i)\n",
    "print(\"common element:\",common)\n",
    "        "
   ]
  },
  {
   "cell_type": "code",
   "execution_count": null,
   "id": "c97bc752-6d65-427b-8b39-5d2e7ebf590e",
   "metadata": {},
   "outputs": [],
   "source": []
  }
 ],
 "metadata": {
  "kernelspec": {
   "display_name": "Python 3 (ipykernel)",
   "language": "python",
   "name": "python3"
  },
  "language_info": {
   "codemirror_mode": {
    "name": "ipython",
    "version": 3
   },
   "file_extension": ".py",
   "mimetype": "text/x-python",
   "name": "python",
   "nbconvert_exporter": "python",
   "pygments_lexer": "ipython3",
   "version": "3.13.5"
  }
 },
 "nbformat": 4,
 "nbformat_minor": 5
}
