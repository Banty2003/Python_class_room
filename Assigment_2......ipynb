{
 "cells": [
  {
   "cell_type": "code",
   "execution_count": null,
   "id": "55d716fd-7333-4954-a87d-1e9dcc00514e",
   "metadata": {},
   "outputs": [],
   "source": [
    "#using only if statement? (accept number of unit from user)\n",
    "#according to the following criteria:\n",
    "\n",
    "# Unit                  Price\n",
    "# First 100 units       no charge\n",
    "# Next 100 units        Rs 5 per unit\n",
    "# After 200 units       Rs 10 per unit\n",
    "# (For example, if input unit is 350 than total bill amount is Rs2000). Lets explain...\n",
    "# For first 100 no charges\n",
    "# Now you have 250 unit remaining\n",
    "# 100-200 you need to pay – 100*5 = 500\n",
    "# Now 200-100 you need to pay 150*10 = 1500\n",
    "# Total = 500+1500 = 2000"
   ]
  },
  {
   "cell_type": "code",
   "execution_count": 18,
   "id": "849644a9-3028-43d0-828e-00a649562813",
   "metadata": {},
   "outputs": [
    {
     "name": "stdin",
     "output_type": "stream",
     "text": [
      "please enter your bill:  350\n"
     ]
    },
    {
     "name": "stdout",
     "output_type": "stream",
     "text": [
      "Rs 10 per unit\n",
      "total bill: Rs 2000\n"
     ]
    }
   ],
   "source": [
    "units = int(input(\"please enter your bill: \"))\n",
    "bill = 0\n",
    "\n",
    "if units <= 100:\n",
    "    bill = 0\n",
    "    print(\"no charge\")\n",
    "if units > 100 and units <= 200:\n",
    "    bill = (units - 100) * 5\n",
    "    print(\"Rs 5 per unit\")\n",
    "if units > 200:\n",
    "    bill = (100 * 5) + ((units - 200) * 10)\n",
    "    print(\"Rs 10 per unit\")\n",
    "\n",
    "print(\"total bill: Rs\", bill)"
   ]
  },
  {
   "cell_type": "code",
   "execution_count": null,
   "id": "a4066825-bae9-495b-bc20-6848b5a3bc54",
   "metadata": {},
   "outputs": [],
   "source": [
    "# Q2. Write a program to accept percentage from the user and display\n",
    "# the grade according to the following criteria:\n",
    "\n",
    "# Marks                Grade\n",
    "# > 90                  A\n",
    "# > 80 and <= 90        B\n",
    "# >= 60 and <= 80       C\n",
    "# below 60              D"
   ]
  },
  {
   "cell_type": "code",
   "execution_count": 19,
   "id": "d7acdc1c-fcd1-4472-ae86-4736945a8ec2",
   "metadata": {},
   "outputs": [
    {
     "name": "stdin",
     "output_type": "stream",
     "text": [
      "enter your number: 98\n"
     ]
    },
    {
     "name": "stdout",
     "output_type": "stream",
     "text": [
      "grade: A\n"
     ]
    }
   ],
   "source": [
    "percentage=float(input(\"enter your number:\"))\n",
    "if percentage > 90:\n",
    "    print(\"grade: A\")\n",
    "elif percentage > 80 and percentage <= 90:\n",
    "    print(\"grade:B\")\n",
    "elif percentage >= 60 and percentage <= 80:\n",
    "    print(\"grade:C\")\n",
    "else:\n",
    "    print(\"grade:D\")\n"
   ]
  },
  {
   "cell_type": "code",
   "execution_count": null,
   "id": "aa989676-aa8c-4790-b227-1f6dd98e3295",
   "metadata": {},
   "outputs": [],
   "source": [
    "#Q3. Accept the age of 4 people and display the youngest one?"
   ]
  },
  {
   "cell_type": "code",
   "execution_count": 20,
   "id": "0b94cf1e-7557-4641-8538-889a582a7cd0",
   "metadata": {},
   "outputs": [
    {
     "name": "stdin",
     "output_type": "stream",
     "text": [
      "Enter your age:  98\n",
      "Enter your age:  45\n",
      "Enter your age: 55\n",
      "Enter your age: 86\n"
     ]
    },
    {
     "name": "stdout",
     "output_type": "stream",
     "text": [
      "youngest age is 45\n"
     ]
    }
   ],
   "source": [
    "a=int(input(\"Enter your age: \"))\n",
    "b=int(input(\"Enter your age: \"))\n",
    "c=int(input(\"Enter your age:\"))\n",
    "d=int(input(\"Enter your age:\"))\n",
    "\n",
    "if a<b and a<c and a<d:\n",
    "    print(f\"youngest age is {a}\") \n",
    "if b<a and b<c and b<d:\n",
    "    print(f\"youngest age is {b}\") \n",
    "if c<a and c<b and c<d:\n",
    "    print(f\"youngest age is {c}\")\n",
    "if d<a and d<b and d<c:\n",
    "    print(f\"youngest age is {d}\")"
   ]
  },
  {
   "cell_type": "code",
   "execution_count": null,
   "id": "84842edf-315b-40c4-9676-adbf555357cb",
   "metadata": {},
   "outputs": [],
   "source": [
    "# Q4. A company decided to give bonus to employee\n",
    "# according to following criteria:\n",
    "\n",
    "# Time period of Service      Bonus\n",
    "\n",
    "# More than 10 years          10%\n",
    "\n",
    "# >=6 and <=10                8%\n",
    "\n",
    "# Less than 6 years           5%\n",
    "\n",
    "# Ask user for their salary and years of service and print the\n",
    "# net bonus amount?"
   ]
  },
  {
   "cell_type": "code",
   "execution_count": 21,
   "id": "daf91e6e-b6bd-4e6a-81c6-a190df64e553",
   "metadata": {},
   "outputs": [
    {
     "name": "stdin",
     "output_type": "stream",
     "text": [
      "Enter your salary:  90000\n",
      "Enter your years of services:  11\n"
     ]
    },
    {
     "name": "stdout",
     "output_type": "stream",
     "text": [
      "your bonus is 9000.0\n"
     ]
    }
   ],
   "source": [
    "salary=float(input(\"Enter your salary: \"))\n",
    "years=int(input(\"Enter your years of services: \"))\n",
    "if years > 10:\n",
    "    print(f\"your bonus is {(salary * 10)/100}\")\n",
    "elif years >= 6 and years <= 10:\n",
    "    print(f\"your bonus is {(salary * 8)/100}\")\n",
    "else:\n",
    "    print(f\"your bonus is {(salary * 5)/100}\")\n",
    "                "
   ]
  },
  {
   "cell_type": "code",
   "execution_count": null,
   "id": "378050f7-b9ad-4ae0-b3c2-1973aae17cf3",
   "metadata": {},
   "outputs": [],
   "source": [
    "# Q5. Accept three numbers from the user and\n",
    "# display the second largest number?"
   ]
  },
  {
   "cell_type": "code",
   "execution_count": 23,
   "id": "4066b953-e3ba-47ba-aa28-e5af90e512d4",
   "metadata": {},
   "outputs": [
    {
     "name": "stdin",
     "output_type": "stream",
     "text": [
      "Enter first number: 85\n",
      "Enter second number: 98\n",
      "Enter third number: 64\n"
     ]
    },
    {
     "name": "stdout",
     "output_type": "stream",
     "text": [
      "Enter the second largest number: 85\n"
     ]
    }
   ],
   "source": [
    "a=int(input(\"Enter first number:\"))\n",
    "b=int(input(\"Enter second number:\"))\n",
    "c=int(input(\"Enter third number:\"))\n",
    "if(a>b and a<c) or (a<b and a>c):\n",
    "    second=a\n",
    "elif(b>a and b<c) or (b<a and b>c):\n",
    "    second=b\n",
    "else:\n",
    "    second=c\n",
    "print(\"Enter the second largest number:\",second)\n",
    "\n",
    "\n",
    "      "
   ]
  },
  {
   "cell_type": "code",
   "execution_count": null,
   "id": "98771367-a04c-4d40-b0b8-4e23a4a45013",
   "metadata": {},
   "outputs": [],
   "source": [
    "# Q6. Accept the marked price from the user and calculate\n",
    "# the Net amount as (Marked Price – Discount) to pay\n",
    "# according to following criteria:\n",
    "\n",
    "# Marked Price              Discount\n",
    "# >10000                    20%\n",
    "# >7000 and <=10000         15%\n",
    "# <=7000                    10%"
   ]
  },
  {
   "cell_type": "code",
   "execution_count": 24,
   "id": "649525fd-9d92-460c-bbd3-90563437b58f",
   "metadata": {},
   "outputs": [
    {
     "name": "stdin",
     "output_type": "stream",
     "text": [
      "Enter the marked price 10000\n"
     ]
    },
    {
     "name": "stdout",
     "output_type": "stream",
     "text": [
      "marked_prise: 10000.0\n",
      "discount: 1500.0\n",
      "net amount to pay: 8500.0\n"
     ]
    }
   ],
   "source": [
    "marked_prise=float(input(\"Enter the marked price\"))\n",
    "if marked_prise>10000:\n",
    "    discount=marked_prise*0.20\n",
    "elif marked_prise>7000 and marked_prise<=10000:\n",
    "    discount=marked_prise*0.15\n",
    "else:\n",
    "    discount=marked_prise*10\n",
    "net_amount=marked_prise - discount\n",
    "print(\"marked_prise:\",marked_prise)\n",
    "print(\"discount:\",discount)\n",
    "print(\"net amount to pay:\",net_amount)"
   ]
  },
  {
   "cell_type": "code",
   "execution_count": null,
   "id": "130d4e94-6a8d-4927-9178-94963ebd578d",
   "metadata": {},
   "outputs": [],
   "source": [
    "# Q7. Accept the marks of English, Math and Science,\n",
    "# Social Studies Subject and display the stream allotted\n",
    "# according to following:\n",
    "\n",
    "# All Subjects more than 80 marks — Science Stream\n",
    "\n",
    "# English >80 and Math, Science above 50 — Commerce Stream\n",
    "\n",
    "# English > 80 and social studies > 80 — Humanities"
   ]
  },
  {
   "cell_type": "code",
   "execution_count": 25,
   "id": "79c7b323-00e8-441d-aacc-ffeddf2e6b41",
   "metadata": {},
   "outputs": [
    {
     "name": "stdin",
     "output_type": "stream",
     "text": [
      "Enter the marks in english 85\n",
      "Enter the marks in math 45\n",
      "Enter the marks in science 55\n",
      "Enter the marks in social 98\n"
     ]
    },
    {
     "name": "stdout",
     "output_type": "stream",
     "text": [
      "stream allotted: humanities:\n"
     ]
    }
   ],
   "source": [
    "english=int(input(\"Enter the marks in english\"))\n",
    "math=int(input(\"Enter the marks in math\"))\n",
    "science=int(input(\"Enter the marks in science\"))\n",
    "social=int(input(\"Enter the marks in social\"))\n",
    "\n",
    "if english> 80 and math > 80 and science > 80 and social > 80:\n",
    "    print(\"stream allotted: science\")\n",
    "elif english > 80 and math > 50 and science >50:\n",
    "    print(\"stream allotted: commerce stream\")\n",
    "elif english > 80 and social > 80:\n",
    "    print(\"stream allotted: humanities:\")\n",
    "else:\n",
    "    print(\"no specfic allotted stream\")\n",
    "            "
   ]
  },
  {
   "cell_type": "code",
   "execution_count": null,
   "id": "3b8993d1-7645-4866-ad12-a5e7f42c22e7",
   "metadata": {},
   "outputs": [],
   "source": [
    "# Q8. Write a program to display \"Hello\" if a number entered\n",
    "# by user is a multiple of five, otherwise print \"Bye\"?"
   ]
  },
  {
   "cell_type": "code",
   "execution_count": 26,
   "id": "a962bc5a-0eab-48a8-9054-b7b31dbdbf29",
   "metadata": {},
   "outputs": [
    {
     "name": "stdin",
     "output_type": "stream",
     "text": [
      "Enter the number 56\n"
     ]
    },
    {
     "name": "stdout",
     "output_type": "stream",
     "text": [
      "Bye\n"
     ]
    }
   ],
   "source": [
    "num=int(input(\"Enter the number\"))\n",
    "if num % 5 == 0:\n",
    "    print(\"Hello\")\n",
    "else:\n",
    "    print(\"Bye\")"
   ]
  },
  {
   "cell_type": "code",
   "execution_count": null,
   "id": "663bee5a-7046-4f78-aca0-a6aaed06b61d",
   "metadata": {},
   "outputs": [],
   "source": [
    "# Q9. Write a program to check whether the last digit of a number\n",
    "# (entered by user) is divisible by 3 or not?"
   ]
  },
  {
   "cell_type": "code",
   "execution_count": 27,
   "id": "f71a3265-59c4-43e6-bdfb-e82c341fbf13",
   "metadata": {},
   "outputs": [
    {
     "name": "stdin",
     "output_type": "stream",
     "text": [
      "Enter the number 563\n"
     ]
    },
    {
     "name": "stdout",
     "output_type": "stream",
     "text": [
      " The last_digit 6 is divisible by 3\n"
     ]
    }
   ],
   "source": [
    "last_digit=int(input(\"Enter the number\"))\n",
    "last_digit = num%10\n",
    "\n",
    "if last_digit % 3==0:\n",
    "    print(\" The last_digit\",last_digit,\"is divisible by 3\")\n",
    "else:\n",
    "    print(\"the last_digit\",last_digit,\"is not divisible by 3\")\n"
   ]
  },
  {
   "cell_type": "code",
   "execution_count": null,
   "id": "e0504908-28ff-4e7f-8eef-d03f84baa3a4",
   "metadata": {},
   "outputs": [],
   "source": [
    "# Q10. Write a program to check whether a number entered is three-digit number or not?"
   ]
  },
  {
   "cell_type": "code",
   "execution_count": 28,
   "id": "112035f7-e14b-4e27-94b2-50aa3ee1c567",
   "metadata": {},
   "outputs": [
    {
     "name": "stdin",
     "output_type": "stream",
     "text": [
      "Enter a number: 658\n"
     ]
    },
    {
     "name": "stdout",
     "output_type": "stream",
     "text": [
      "It is a three digit number\n"
     ]
    }
   ],
   "source": [
    "num=int(input(\"Enter a number:\"))\n",
    "if(num >= 100 and num <= 999) or (num <= -100 and num >= -999):\n",
    "    print(\"It is a three digit number\")\n",
    "else:\n",
    "    print(\"It is not a three digit number\")\n",
    "        "
   ]
  },
  {
   "cell_type": "code",
   "execution_count": null,
   "id": "2176d363-e6c6-438f-8f95-4242fd79318b",
   "metadata": {},
   "outputs": [],
   "source": []
  }
 ],
 "metadata": {
  "kernelspec": {
   "display_name": "Python 3 (ipykernel)",
   "language": "python",
   "name": "python3"
  },
  "language_info": {
   "codemirror_mode": {
    "name": "ipython",
    "version": 3
   },
   "file_extension": ".py",
   "mimetype": "text/x-python",
   "name": "python",
   "nbconvert_exporter": "python",
   "pygments_lexer": "ipython3",
   "version": "3.13.5"
  }
 },
 "nbformat": 4,
 "nbformat_minor": 5
}
